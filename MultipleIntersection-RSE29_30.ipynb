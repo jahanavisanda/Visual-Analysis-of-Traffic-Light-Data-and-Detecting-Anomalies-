{
 "cells": [
  {
   "cell_type": "code",
   "execution_count": 1,
   "id": "6c1b9d54",
   "metadata": {},
   "outputs": [],
   "source": [
    "import pandas as pd\n",
    "import numpy as np\n",
    "from datetime import datetime\n",
    "import matplotlib.pyplot as plt\n",
    "import seaborn as sns\n",
    "%matplotlib inline"
   ]
  },
  {
   "cell_type": "markdown",
   "id": "be218c32",
   "metadata": {},
   "source": [
    "Import RSE29 data"
   ]
  },
  {
   "cell_type": "code",
   "execution_count": 2,
   "id": "9e10ca28",
   "metadata": {},
   "outputs": [],
   "source": [
    "RSE29 = pd.read_csv(\"data/RSE29.csv\")"
   ]
  },
  {
   "cell_type": "code",
   "execution_count": 3,
   "id": "0140fbc2",
   "metadata": {},
   "outputs": [],
   "source": [
    "RSE29_upd = RSE29[['Timestamp', 'CurrentIndication_MajorStreet', 'Duration_Indication_MajorStreet', 'CurrentIndication_MinorStreet', 'Duration_Indication_MinorStreet', 'RSE_Number']]"
   ]
  },
  {
   "cell_type": "code",
   "execution_count": 4,
   "id": "23e50430",
   "metadata": {},
   "outputs": [],
   "source": [
    "timelist_29 = [datetime.fromtimestamp(l).strftime('%m-%d:%H') for l in RSE29_upd['Timestamp'].tolist()]"
   ]
  },
  {
   "cell_type": "code",
   "execution_count": 5,
   "id": "14dda2d4",
   "metadata": {},
   "outputs": [],
   "source": [
    "RSE29_upd.insert(1, 'Time', timelist_29)"
   ]
  },
  {
   "cell_type": "code",
   "execution_count": 6,
   "id": "8c86990e",
   "metadata": {},
   "outputs": [
    {
     "data": {
      "text/html": [
       "<div>\n",
       "<style scoped>\n",
       "    .dataframe tbody tr th:only-of-type {\n",
       "        vertical-align: middle;\n",
       "    }\n",
       "\n",
       "    .dataframe tbody tr th {\n",
       "        vertical-align: top;\n",
       "    }\n",
       "\n",
       "    .dataframe thead th {\n",
       "        text-align: right;\n",
       "    }\n",
       "</style>\n",
       "<table border=\"1\" class=\"dataframe\">\n",
       "  <thead>\n",
       "    <tr style=\"text-align: right;\">\n",
       "      <th></th>\n",
       "      <th>Timestamp</th>\n",
       "      <th>Time</th>\n",
       "      <th>CurrentIndication_MajorStreet</th>\n",
       "      <th>Duration_Indication_MajorStreet</th>\n",
       "      <th>CurrentIndication_MinorStreet</th>\n",
       "      <th>Duration_Indication_MinorStreet</th>\n",
       "      <th>RSE_Number</th>\n",
       "    </tr>\n",
       "  </thead>\n",
       "  <tbody>\n",
       "    <tr>\n",
       "      <th>0</th>\n",
       "      <td>1425322541</td>\n",
       "      <td>03-02:12</td>\n",
       "      <td>1</td>\n",
       "      <td>15.03</td>\n",
       "      <td>1</td>\n",
       "      <td>0.00</td>\n",
       "      <td>RSE29</td>\n",
       "    </tr>\n",
       "    <tr>\n",
       "      <th>1</th>\n",
       "      <td>1425322311</td>\n",
       "      <td>03-02:12</td>\n",
       "      <td>1</td>\n",
       "      <td>17.09</td>\n",
       "      <td>1</td>\n",
       "      <td>0.00</td>\n",
       "      <td>RSE29</td>\n",
       "    </tr>\n",
       "    <tr>\n",
       "      <th>2</th>\n",
       "      <td>1425322311</td>\n",
       "      <td>03-02:12</td>\n",
       "      <td>1</td>\n",
       "      <td>17.21</td>\n",
       "      <td>1</td>\n",
       "      <td>0.13</td>\n",
       "      <td>RSE29</td>\n",
       "    </tr>\n",
       "    <tr>\n",
       "      <th>3</th>\n",
       "      <td>1425322311</td>\n",
       "      <td>03-02:12</td>\n",
       "      <td>1</td>\n",
       "      <td>17.36</td>\n",
       "      <td>1</td>\n",
       "      <td>0.28</td>\n",
       "      <td>RSE29</td>\n",
       "    </tr>\n",
       "    <tr>\n",
       "      <th>4</th>\n",
       "      <td>1425322311</td>\n",
       "      <td>03-02:12</td>\n",
       "      <td>1</td>\n",
       "      <td>17.49</td>\n",
       "      <td>1</td>\n",
       "      <td>0.41</td>\n",
       "      <td>RSE29</td>\n",
       "    </tr>\n",
       "  </tbody>\n",
       "</table>\n",
       "</div>"
      ],
      "text/plain": [
       "    Timestamp      Time  CurrentIndication_MajorStreet  \\\n",
       "0  1425322541  03-02:12                              1   \n",
       "1  1425322311  03-02:12                              1   \n",
       "2  1425322311  03-02:12                              1   \n",
       "3  1425322311  03-02:12                              1   \n",
       "4  1425322311  03-02:12                              1   \n",
       "\n",
       "   Duration_Indication_MajorStreet  CurrentIndication_MinorStreet  \\\n",
       "0                            15.03                              1   \n",
       "1                            17.09                              1   \n",
       "2                            17.21                              1   \n",
       "3                            17.36                              1   \n",
       "4                            17.49                              1   \n",
       "\n",
       "   Duration_Indication_MinorStreet RSE_Number  \n",
       "0                             0.00      RSE29  \n",
       "1                             0.00      RSE29  \n",
       "2                             0.13      RSE29  \n",
       "3                             0.28      RSE29  \n",
       "4                             0.41      RSE29  "
      ]
     },
     "execution_count": 6,
     "metadata": {},
     "output_type": "execute_result"
    }
   ],
   "source": [
    "RSE29_upd.head()"
   ]
  },
  {
   "cell_type": "code",
   "execution_count": 7,
   "id": "21277c4e",
   "metadata": {},
   "outputs": [],
   "source": [
    "df_29_group = RSE29_upd.groupby(['Time', 'CurrentIndication_MajorStreet'])\n",
    "df_29_group_minor = RSE29_upd.groupby(['Time', 'CurrentIndication_MinorStreet'])"
   ]
  },
  {
   "cell_type": "code",
   "execution_count": 8,
   "id": "ff66aa00",
   "metadata": {},
   "outputs": [],
   "source": [
    "RSE29_major_light_duration = []\n",
    "for key1, key2 in df_29_group.groups.keys():\n",
    "    if key2 == 1 or key2 == 3:\n",
    "        time_list_red_major = list(df_29_group.get_group((key1, key2))['Duration_Indication_MajorStreet'])\n",
    "        time_red = time_list_red_major[0]\n",
    "        count_red = 0\n",
    "        for i in time_list_red_major[1:]:\n",
    "            if time_red > i:\n",
    "                count_red = count_red + time_red\n",
    "            time_red = i\n",
    "        li = [key1, key2, int(count_red)]\n",
    "        RSE29_major_light_duration.append(li)"
   ]
  },
  {
   "cell_type": "code",
   "execution_count": 9,
   "id": "040540f6",
   "metadata": {},
   "outputs": [
    {
     "data": {
      "text/plain": [
       "[['03-02:12', 1, 131],\n",
       " ['03-02:12', 3, 378],\n",
       " ['03-02:14', 1, 347],\n",
       " ['03-02:14', 3, 1730],\n",
       " ['03-02:15', 1, 747],\n",
       " ['03-02:15', 3, 3725],\n",
       " ['03-02:16', 1, 1385],\n",
       " ['03-02:16', 3, 2344],\n",
       " ['03-02:17', 1, 881],\n",
       " ['03-02:17', 3, 3665],\n",
       " ['03-02:18', 1, 158],\n",
       " ['03-02:18', 3, 684],\n",
       " ['03-03:12', 1, 663],\n",
       " ['03-03:12', 3, 2913],\n",
       " ['03-03:13', 1, 616],\n",
       " ['03-03:13', 3, 4215],\n",
       " ['03-03:14', 1, 526],\n",
       " ['03-03:14', 3, 3540],\n",
       " ['03-03:15', 1, 1061],\n",
       " ['03-03:15', 3, 2885],\n",
       " ['03-03:16', 1, 1522],\n",
       " ['03-03:16', 3, 2235],\n",
       " ['03-03:17', 1, 1352],\n",
       " ['03-03:17', 3, 2727],\n",
       " ['03-03:18', 1, 42],\n",
       " ['03-03:18', 3, 216]]"
      ]
     },
     "execution_count": 9,
     "metadata": {},
     "output_type": "execute_result"
    }
   ],
   "source": [
    "RSE29_major_light_duration"
   ]
  },
  {
   "cell_type": "code",
   "execution_count": 10,
   "id": "be875b38",
   "metadata": {},
   "outputs": [],
   "source": [
    "red_29_major_list = []\n",
    "green_29_major_light = []\n",
    "for l in RSE29_major_light_duration:\n",
    "    if l[1] == 3:\n",
    "        red_29_major_list.append(l[2])\n",
    "    else:\n",
    "        green_29_major_light.append(l[2])"
   ]
  },
  {
   "cell_type": "code",
   "execution_count": 14,
   "id": "abb12923",
   "metadata": {},
   "outputs": [
    {
     "data": {
      "text/plain": [
       "[378, 1730, 3725, 2344, 3665, 684, 2913, 4215, 3540, 2885, 2235, 2727, 216]"
      ]
     },
     "execution_count": 14,
     "metadata": {},
     "output_type": "execute_result"
    }
   ],
   "source": [
    "red_29_major_list"
   ]
  },
  {
   "cell_type": "code",
   "execution_count": 15,
   "id": "3eade5e0",
   "metadata": {},
   "outputs": [
    {
     "data": {
      "text/plain": [
       "13"
      ]
     },
     "execution_count": 15,
     "metadata": {},
     "output_type": "execute_result"
    }
   ],
   "source": [
    "green_29_major_light"
   ]
  },
  {
   "cell_type": "code",
   "execution_count": 16,
   "id": "c2e1d2d4",
   "metadata": {},
   "outputs": [],
   "source": [
    "RSE29_minor_light_duration = []\n",
    "for key1, key2 in df_29_group_minor.groups.keys():\n",
    "    if key2 == 1 or key2 == 3:\n",
    "        time_list_red_major = list(df_29_group_minor.get_group((key1, key2))['Duration_Indication_MinorStreet'])\n",
    "        time_red = time_list_red_major[0]\n",
    "        count_red = 0\n",
    "        for i in time_list_red_major[1:]:\n",
    "            if time_red > i:\n",
    "                count_red = count_red + time_red\n",
    "            time_red = i\n",
    "        li = [key1, key2, int(count_red)]\n",
    "        RSE29_minor_light_duration.append(li)"
   ]
  },
  {
   "cell_type": "code",
   "execution_count": 17,
   "id": "1da8d0b7",
   "metadata": {},
   "outputs": [],
   "source": [
    "red_29_minor_list = []\n",
    "green_29_minor_light = []\n",
    "for l in RSE29_minor_light_duration:\n",
    "    if l[1] == 3:\n",
    "        red_29_minor_list.append(l[2])\n",
    "    else:\n",
    "        green_29_minor_light.append(l[2])"
   ]
  },
  {
   "cell_type": "code",
   "execution_count": 20,
   "id": "f1479e51",
   "metadata": {},
   "outputs": [
    {
     "data": {
      "text/plain": [
       "[55, 178, 431, 881, 447, 92, 343, 324, 274, 630, 912, 695, 22]"
      ]
     },
     "execution_count": 20,
     "metadata": {},
     "output_type": "execute_result"
    }
   ],
   "source": [
    "red_29_minor_list"
   ]
  },
  {
   "cell_type": "code",
   "execution_count": 23,
   "id": "53f5955e",
   "metadata": {},
   "outputs": [
    {
     "data": {
      "text/plain": [
       "[571, 1924, 4131, 2906, 4694, 744, 3476, 4666, 3882, 3467, 3012, 3563, 247]"
      ]
     },
     "execution_count": 23,
     "metadata": {},
     "output_type": "execute_result"
    }
   ],
   "source": [
    "green_29_minor_light"
   ]
  },
  {
   "cell_type": "markdown",
   "id": "11b48e3a",
   "metadata": {},
   "source": [
    "Import RSE30 data"
   ]
  },
  {
   "cell_type": "code",
   "execution_count": 24,
   "id": "2a76dd92",
   "metadata": {},
   "outputs": [],
   "source": [
    "RSE30 = pd.read_csv(\"data/RSE30.csv\")"
   ]
  },
  {
   "cell_type": "code",
   "execution_count": 25,
   "id": "1d4d1e90",
   "metadata": {},
   "outputs": [],
   "source": [
    "RSE30_upd = RSE30[['Timestamp', 'CurrentIndication_MajorStreet', 'Duration_Indication_MajorStreet', 'CurrentIndication_MinorStreet', 'Duration_Indication_MinorStreet', 'RSE_Number']]"
   ]
  },
  {
   "cell_type": "code",
   "execution_count": 26,
   "id": "b1291efe",
   "metadata": {},
   "outputs": [],
   "source": [
    "timelist_30 = [datetime.fromtimestamp(l).strftime('%m-%d:%H') for l in RSE30_upd['Timestamp'].tolist()]"
   ]
  },
  {
   "cell_type": "code",
   "execution_count": 27,
   "id": "e7a350d3",
   "metadata": {},
   "outputs": [],
   "source": [
    "RSE30_upd.insert(1, 'Time', timelist_30)"
   ]
  },
  {
   "cell_type": "code",
   "execution_count": 28,
   "id": "c6f971db",
   "metadata": {},
   "outputs": [
    {
     "data": {
      "text/html": [
       "<div>\n",
       "<style scoped>\n",
       "    .dataframe tbody tr th:only-of-type {\n",
       "        vertical-align: middle;\n",
       "    }\n",
       "\n",
       "    .dataframe tbody tr th {\n",
       "        vertical-align: top;\n",
       "    }\n",
       "\n",
       "    .dataframe thead th {\n",
       "        text-align: right;\n",
       "    }\n",
       "</style>\n",
       "<table border=\"1\" class=\"dataframe\">\n",
       "  <thead>\n",
       "    <tr style=\"text-align: right;\">\n",
       "      <th></th>\n",
       "      <th>Timestamp</th>\n",
       "      <th>Time</th>\n",
       "      <th>CurrentIndication_MajorStreet</th>\n",
       "      <th>Duration_Indication_MajorStreet</th>\n",
       "      <th>CurrentIndication_MinorStreet</th>\n",
       "      <th>Duration_Indication_MinorStreet</th>\n",
       "      <th>RSE_Number</th>\n",
       "    </tr>\n",
       "  </thead>\n",
       "  <tbody>\n",
       "    <tr>\n",
       "      <th>0</th>\n",
       "      <td>1425322494</td>\n",
       "      <td>03-02:12</td>\n",
       "      <td>1</td>\n",
       "      <td>3.13</td>\n",
       "      <td>1</td>\n",
       "      <td>48.80</td>\n",
       "      <td>RSE30</td>\n",
       "    </tr>\n",
       "    <tr>\n",
       "      <th>1</th>\n",
       "      <td>1425328298</td>\n",
       "      <td>03-02:14</td>\n",
       "      <td>1</td>\n",
       "      <td>3.24</td>\n",
       "      <td>1</td>\n",
       "      <td>39.00</td>\n",
       "      <td>RSE30</td>\n",
       "    </tr>\n",
       "    <tr>\n",
       "      <th>2</th>\n",
       "      <td>1425331432</td>\n",
       "      <td>03-02:15</td>\n",
       "      <td>1</td>\n",
       "      <td>3.12</td>\n",
       "      <td>1</td>\n",
       "      <td>35.50</td>\n",
       "      <td>RSE30</td>\n",
       "    </tr>\n",
       "    <tr>\n",
       "      <th>3</th>\n",
       "      <td>1425333511</td>\n",
       "      <td>03-02:15</td>\n",
       "      <td>1</td>\n",
       "      <td>49.07</td>\n",
       "      <td>1</td>\n",
       "      <td>4.11</td>\n",
       "      <td>RSE30</td>\n",
       "    </tr>\n",
       "    <tr>\n",
       "      <th>4</th>\n",
       "      <td>1425334376</td>\n",
       "      <td>03-02:16</td>\n",
       "      <td>1</td>\n",
       "      <td>60.23</td>\n",
       "      <td>1</td>\n",
       "      <td>4.30</td>\n",
       "      <td>RSE30</td>\n",
       "    </tr>\n",
       "  </tbody>\n",
       "</table>\n",
       "</div>"
      ],
      "text/plain": [
       "    Timestamp      Time  CurrentIndication_MajorStreet  \\\n",
       "0  1425322494  03-02:12                              1   \n",
       "1  1425328298  03-02:14                              1   \n",
       "2  1425331432  03-02:15                              1   \n",
       "3  1425333511  03-02:15                              1   \n",
       "4  1425334376  03-02:16                              1   \n",
       "\n",
       "   Duration_Indication_MajorStreet  CurrentIndication_MinorStreet  \\\n",
       "0                             3.13                              1   \n",
       "1                             3.24                              1   \n",
       "2                             3.12                              1   \n",
       "3                            49.07                              1   \n",
       "4                            60.23                              1   \n",
       "\n",
       "   Duration_Indication_MinorStreet RSE_Number  \n",
       "0                            48.80      RSE30  \n",
       "1                            39.00      RSE30  \n",
       "2                            35.50      RSE30  \n",
       "3                             4.11      RSE30  \n",
       "4                             4.30      RSE30  "
      ]
     },
     "execution_count": 28,
     "metadata": {},
     "output_type": "execute_result"
    }
   ],
   "source": [
    "RSE30_upd.head()"
   ]
  },
  {
   "cell_type": "code",
   "execution_count": 29,
   "id": "7b81f429",
   "metadata": {},
   "outputs": [],
   "source": [
    "df_30_group = RSE30_upd.groupby(['Time', 'CurrentIndication_MajorStreet'])\n",
    "df_30_group_minor = RSE30_upd.groupby(['Time', 'CurrentIndication_MinorStreet'])"
   ]
  },
  {
   "cell_type": "code",
   "execution_count": 30,
   "id": "e4070775",
   "metadata": {},
   "outputs": [],
   "source": [
    "RSE30_major_light_duration = []\n",
    "for key1, key2 in df_30_group.groups.keys():\n",
    "    if key2 == 1 or key2 == 3:\n",
    "        time_list_red_major = list(df_30_group.get_group((key1, key2))['Duration_Indication_MajorStreet'])\n",
    "        time_red = time_list_red_major[0]\n",
    "        count_red = 0\n",
    "        for i in time_list_red_major[1:]:\n",
    "            if time_red > i:\n",
    "                count_red = count_red + time_red\n",
    "            time_red = i\n",
    "        li = [key1, key2, int(count_red)]\n",
    "        RSE30_major_light_duration.append(li) "
   ]
  },
  {
   "cell_type": "code",
   "execution_count": 31,
   "id": "591ef54d",
   "metadata": {},
   "outputs": [
    {
     "data": {
      "text/plain": [
       "[['03-02:12', 1, 1125],\n",
       " ['03-02:12', 3, 553],\n",
       " ['03-02:14', 1, 1146],\n",
       " ['03-02:14', 3, 760],\n",
       " ['03-02:15', 1, 2368],\n",
       " ['03-02:15', 3, 1285],\n",
       " ['03-02:16', 1, 2430],\n",
       " ['03-02:16', 3, 1205],\n",
       " ['03-02:17', 1, 2309],\n",
       " ['03-02:17', 3, 1463],\n",
       " ['03-02:18', 1, 571],\n",
       " ['03-02:18', 3, 220],\n",
       " ['03-03:12', 1, 3076],\n",
       " ['03-03:12', 3, 3390],\n",
       " ['03-03:13', 1, 2965],\n",
       " ['03-03:13', 3, 3318],\n",
       " ['03-03:14', 1, 2546],\n",
       " ['03-03:14', 3, 1175],\n",
       " ['03-03:15', 1, 2199],\n",
       " ['03-03:15', 3, 1209],\n",
       " ['03-03:16', 1, 2399],\n",
       " ['03-03:16', 3, 1239],\n",
       " ['03-03:17', 1, 2422],\n",
       " ['03-03:17', 3, 1294],\n",
       " ['03-03:18', 1, 91],\n",
       " ['03-03:18', 3, 115]]"
      ]
     },
     "execution_count": 31,
     "metadata": {},
     "output_type": "execute_result"
    }
   ],
   "source": [
    "RSE30_major_light_duration"
   ]
  },
  {
   "cell_type": "code",
   "execution_count": 32,
   "id": "a2da5730",
   "metadata": {},
   "outputs": [],
   "source": [
    "red_30_major_list = []\n",
    "green_30_major_light = []\n",
    "for l in RSE30_major_light_duration:\n",
    "    if l[1] == 3:\n",
    "        red_30_major_list.append(l[2])\n",
    "    else:\n",
    "        green_30_major_light.append(l[2])"
   ]
  },
  {
   "cell_type": "code",
   "execution_count": 35,
   "id": "80164451",
   "metadata": {},
   "outputs": [
    {
     "data": {
      "text/plain": [
       "[553, 760, 1285, 1205, 1463, 220, 3390, 3318, 1175, 1209, 1239, 1294, 115]"
      ]
     },
     "execution_count": 35,
     "metadata": {},
     "output_type": "execute_result"
    }
   ],
   "source": [
    "red_30_major_list"
   ]
  },
  {
   "cell_type": "code",
   "execution_count": 38,
   "id": "b477b98e",
   "metadata": {},
   "outputs": [
    {
     "data": {
      "text/plain": [
       "[1125, 1146, 2368, 2430, 2309, 571, 3076, 2965, 2546, 2199, 2399, 2422, 91]"
      ]
     },
     "execution_count": 38,
     "metadata": {},
     "output_type": "execute_result"
    }
   ],
   "source": [
    "green_30_major_light"
   ]
  },
  {
   "cell_type": "code",
   "execution_count": 39,
   "id": "a1e2785f",
   "metadata": {},
   "outputs": [],
   "source": [
    "RSE30_minor_light_duration = []\n",
    "for key1, key2 in df_30_group_minor.groups.keys():\n",
    "    if key2 == 1 or key2 == 3:\n",
    "        time_list_red_major = list(df_30_group_minor.get_group((key1, key2))['Duration_Indication_MinorStreet'])\n",
    "        time_red = time_list_red_major[0]\n",
    "        count_red = 0\n",
    "        for i in time_list_red_major[1:]:\n",
    "            if time_red > i:\n",
    "                count_red = count_red + time_red\n",
    "            time_red = i\n",
    "        li = [key1, key2, int(count_red)]\n",
    "        RSE30_minor_light_duration.append(li)"
   ]
  },
  {
   "cell_type": "code",
   "execution_count": 40,
   "id": "08351bff",
   "metadata": {},
   "outputs": [],
   "source": [
    "red_30_minor_list = []\n",
    "green_30_minor_light = []\n",
    "for l in RSE30_minor_light_duration:\n",
    "    if l[1] == 3:\n",
    "        red_30_minor_list.append(l[2])\n",
    "    else:\n",
    "        green_30_minor_light.append(l[2])"
   ]
  },
  {
   "cell_type": "code",
   "execution_count": 43,
   "id": "2430242a",
   "metadata": {},
   "outputs": [
    {
     "data": {
      "text/plain": [
       "[372, 374, 710, 683, 691, 181, 1222, 1221, 708, 722, 625, 631, 31]"
      ]
     },
     "execution_count": 43,
     "metadata": {},
     "output_type": "execute_result"
    }
   ],
   "source": [
    "red_30_minor_list"
   ]
  },
  {
   "cell_type": "code",
   "execution_count": 45,
   "id": "13d1661b",
   "metadata": {},
   "outputs": [
    {
     "data": {
      "text/plain": [
       "[1518, 1562, 3205, 3115, 3199, 562, 5491, 5314, 2998, 2853, 3230, 3432, 226]"
      ]
     },
     "execution_count": 45,
     "metadata": {},
     "output_type": "execute_result"
    }
   ],
   "source": [
    "green_30_minor_light"
   ]
  },
  {
   "cell_type": "markdown",
   "id": "e6000291",
   "metadata": {},
   "source": [
    "Plot RSE29 Major and Minor Red and Green Light"
   ]
  },
  {
   "cell_type": "code",
   "execution_count": 46,
   "id": "2a97ba9d",
   "metadata": {},
   "outputs": [],
   "source": [
    "times_29 = [RSE29_major_light_duration[i][0]+\":00 PM\" for i in range (0, len(RSE29_major_light_duration), 2)]"
   ]
  },
  {
   "cell_type": "code",
   "execution_count": 47,
   "id": "ab6ae838",
   "metadata": {},
   "outputs": [
    {
     "data": {
      "image/png": "[encoded data removed]",
      "text/plain": [
       "<Figure size 864x432 with 1 Axes>"
      ]
     },
     "metadata": {
      "needs_background": "light"
     },
     "output_type": "display_data"
    }
   ],
   "source": [
    "r = np.arange(13)\n",
    "f = plt.figure()\n",
    "f.set_figwidth(12)\n",
    "f.set_figheight(6)\n",
    "plt.bar(r, red_29_major_list, 0.2, label = \"Red Major\", color = \"#ff3333\", alpha = 0.8)\n",
    "plt.bar(r, green_29_major_light, 0.2, bottom = red_29_major_list, label = \"Green Major\", color = \"#2eb82e\")\n",
    "plt.bar(r+0.35, red_29_minor_list, 0.2, label = \"Red Minor\", color = \"pink\", alpha = 0.8)\n",
    "plt.bar(r+0.35, green_29_minor_light, 0.2, bottom = red_29_minor_list, label = \"Green Minor\", color = \"#adebad\", alpha = 0.9)\n",
    "plt.ylabel('Total Time (seconds)')\n",
    "plt.xlabel('Time of day')\n",
    "plt.title('RSE29 Hourly Accumulated')\n",
    "#plt.xticks(,['2018','2019','2020','2021'])\n",
    "plt.xticks(r + 0.35/2, times_29, rotation = 60)\n",
    "for pos in ['right', 'top']:\n",
    "    plt.gca().spines[pos].set_visible(False)\n",
    "plt.legend()\n",
    "plt.savefig(\"RSE29_hourly_accumulated.jpg\", bbox_inches='tight')\n",
    "plt.show()"
   ]
  },
  {
   "cell_type": "markdown",
   "id": "ba8802f7",
   "metadata": {},
   "source": [
    "Plot RSE29 Major and Minor Red and Green "
   ]
  },
  {
   "cell_type": "code",
   "execution_count": 48,
   "id": "4ec3e6a6",
   "metadata": {},
   "outputs": [],
   "source": [
    "times_30 = [RSE30_major_light_duration[i][0]+\":00 PM\" for i in range (0, len(RSE30_major_light_duration), 2)]"
   ]
  },
  {
   "cell_type": "code",
   "execution_count": 50,
   "id": "e55c07bf",
   "metadata": {},
   "outputs": [
    {
     "data": {
      "image/png": "[encoded data removed]",
      "text/plain": [
       "<Figure size 936x432 with 1 Axes>"
      ]
     },
     "metadata": {
      "needs_background": "light"
     },
     "output_type": "display_data"
    }
   ],
   "source": [
    "r = np.arange(13)\n",
    "f = plt.figure()\n",
    "f.set_figwidth(13)\n",
    "f.set_figheight(6)\n",
    "plt.bar(r, red_30_major_list, 0.2, label = \"Red Major\", color = \"#ff3333\", alpha = 0.8)\n",
    "plt.bar(r, green_30_major_light, 0.2, bottom = red_30_major_list, label = \"Green Major\", color = \"#2eb82e\")\n",
    "plt.bar(r+0.35, red_30_minor_list, 0.2, label = \"Red Minor\", color = \"pink\", alpha = 0.8)\n",
    "plt.bar(r+0.35, green_30_minor_light, 0.2, bottom = red_30_minor_list, label = \"Green Minor\", color = \"#adebad\", alpha = 0.9)\n",
    "plt.ylabel('Total Time (seconds)')\n",
    "plt.xlabel('Time of day')\n",
    "plt.title('RSE30 Hourly Accumulated')\n",
    "#plt.xticks(,['2018','2019','2020','2021'])\n",
    "plt.xticks(r + 0.35/2, times_30, rotation = 60)\n",
    "for pos in ['right', 'top']:\n",
    "    plt.gca().spines[pos].set_visible(False)\n",
    "plt.legend()\n",
    "plt.savefig(\"RSE30_hourly_accumulated.jpg\", bbox_inches='tight')\n",
    "plt.show()"
   ]
  },
  {
   "cell_type": "markdown",
   "id": "ccce3ac3",
   "metadata": {},
   "source": [
    "Comparing Major Red and Green light of RSE29 with RSE30"
   ]
  },
  {
   "cell_type": "code",
   "execution_count": 51,
   "id": "d0562125",
   "metadata": {},
   "outputs": [
    {
     "data": {
      "image/png": "[encoded data removed]",
      "text/plain": [
       "<Figure size 936x432 with 1 Axes>"
      ]
     },
     "metadata": {
      "needs_background": "light"
     },
     "output_type": "display_data"
    }
   ],
   "source": [
    "r = np.arange(6)\n",
    "f = plt.figure()\n",
    "f.set_figwidth(13)\n",
    "f.set_figheight(6)\n",
    "plt.bar(r, red_29_major_list[:6], 0.2, label = \"RSE29 Red Major\", color = \"#ff3333\", alpha = 0.8)\n",
    "plt.bar(r, green_29_major_light[:6], 0.2, bottom = red_29_major_list[:6], label = \"RSE29 Green Major\", color = \"#2eb82e\")\n",
    "plt.bar(r+0.35, red_30_major_list[:6], 0.2, label = \"RSE30 Red Major\", color = \"pink\", alpha = 0.8)\n",
    "plt.bar(r+0.35, green_30_major_light[:6], 0.2, bottom = red_30_major_list[:6], label = \"RSE30 Green Major\", color = \"#adebad\", alpha = 0.9)\n",
    "plt.ylabel('Total Time (seconds)')\n",
    "plt.xlabel('Time of day')\n",
    "plt.title('RSE29 Major V/s RSE30 Major Hourly Accumulated')\n",
    "#plt.xticks(,['2018','2019','2020','2021'])\n",
    "plt.xticks(r + 0.35/2, times_29[:6], rotation = 60)\n",
    "for pos in ['right', 'top']:\n",
    "    plt.gca().spines[pos].set_visible(False)\n",
    "plt.legend()\n",
    "plt.savefig(\"RSE29_vs_RSE30_Major_hourly_accumulated.jpg\", bbox_inches='tight')\n",
    "plt.show()"
   ]
  },
  {
   "cell_type": "markdown",
   "id": "7075a8ef",
   "metadata": {},
   "source": [
    "Comparing Minor Red and Green light of RSE29 with RSE30"
   ]
  },
  {
   "cell_type": "code",
   "execution_count": 52,
   "id": "7ad61a8c",
   "metadata": {},
   "outputs": [
    {
     "data": {
      "image/png": "[encoded data removed]",
      "text/plain": [
       "<Figure size 936x432 with 1 Axes>"
      ]
     },
     "metadata": {
      "needs_background": "light"
     },
     "output_type": "display_data"
    }
   ],
   "source": [
    "r = np.arange(6)\n",
    "f = plt.figure()\n",
    "f.set_figwidth(13)\n",
    "f.set_figheight(6)\n",
    "plt.bar(r, red_29_minor_list[:6], 0.2, label = \"RSE29 Red Minor\", color = \"#ff3333\", alpha = 0.8)\n",
    "plt.bar(r, green_29_minor_light[:6], 0.2, bottom = red_29_minor_list[:6], label = \"RSE29 Green Minor\", color = \"#2eb82e\")\n",
    "plt.bar(r+0.35, red_30_minor_list[:6], 0.2, label = \"RSE30 Red Minor\", color = \"pink\", alpha = 0.8)\n",
    "plt.bar(r+0.35, green_30_minor_light[:6], 0.2, bottom = red_30_minor_list[:6], label = \"RSE30 Green Minor\", color = \"#adebad\", alpha = 0.9)\n",
    "plt.ylabel('Total Time (seconds)')\n",
    "plt.xlabel('Time of day')\n",
    "plt.title('RSE29 Minor V/s RSE30 Minor Hourly Accumulated')\n",
    "#plt.xticks(,['2018','2019','2020','2021'])\n",
    "plt.xticks(r + 0.35/2, times_29[:6], rotation = 60)\n",
    "for pos in ['right', 'top']:\n",
    "    plt.gca().spines[pos].set_visible(False)\n",
    "plt.legend()\n",
    "plt.savefig(\"RSE29_vs_RSE30_Minor_hourly_accumulated.jpg\", bbox_inches='tight')\n",
    "plt.show()"
   ]
  },
  {
   "cell_type": "markdown",
   "id": "e4f79e95",
   "metadata": {},
   "source": [
    "Major Road Distribution"
   ]
  },
  {
   "cell_type": "code",
   "execution_count": 53,
   "id": "d0d49d51",
   "metadata": {},
   "outputs": [],
   "source": [
    "RSE29_major_light_count = []\n",
    "\n",
    "for key1, key2 in df_29_group.groups.keys():\n",
    "    if key2 == 1 or key2 == 3:\n",
    "        time_list_red_major = list(df_29_group.get_group((key1, key2))['Duration_Indication_MajorStreet'])\n",
    "        time_red = time_list_red_major[0]\n",
    "        count_red = 0\n",
    "        count_light = 0\n",
    "        for i in time_list_red_major[1:]:\n",
    "            if time_red > i:\n",
    "                RSE29_major_light_count.append([key2, int(time_red)])\n",
    "            time_red = i\n",
    "         "
   ]
  },
  {
   "cell_type": "code",
   "execution_count": 54,
   "id": "1ffdab78",
   "metadata": {},
   "outputs": [],
   "source": [
    "one_29_count = []\n",
    "three_29_count = []\n",
    "for i in range(len(RSE29_major_light_count)):\n",
    "    if RSE29_major_light_count[i][0] == 1:\n",
    "        one_29_count.append(RSE29_major_light_count[i][1])\n",
    "    elif RSE29_major_light_count[i][0] == 3:\n",
    "        three_29_count.append(RSE29_major_light_count[i][1])"
   ]
  },
  {
   "cell_type": "code",
   "execution_count": 57,
   "id": "1fa9b83a",
   "metadata": {},
   "outputs": [
    {
     "data": {
      "text/plain": [
       "375"
      ]
     },
     "execution_count": 57,
     "metadata": {},
     "output_type": "execute_result"
    }
   ],
   "source": [
    "max(three_29_count)"
   ]
  },
  {
   "cell_type": "code",
   "execution_count": 58,
   "id": "02550f4a",
   "metadata": {},
   "outputs": [],
   "source": [
    "one_29_categories = [0]*8\n",
    "three_29_categories = [0]*8\n",
    "\n",
    "for num in one_29_count:\n",
    "    if num in range(0, 16):\n",
    "        one_29_categories[0] = one_29_categories[0] + 1\n",
    "    elif num in range(16, 31):\n",
    "        one_29_categories[1] = one_29_categories[1] + 1\n",
    "    elif num in range(31, 45):\n",
    "        one_29_categories[2] = one_29_categories[2] + 1\n",
    "    elif num in range(45, 61):\n",
    "        one_29_categories[3] = one_29_categories[3] + 1\n",
    "    elif num in range(61, 76):\n",
    "        one_29_categories[4] = one_29_categories[4] + 1\n",
    "    elif num in range(76, 91):\n",
    "        one_29_categories[5] = one_29_categories[5] + 1\n",
    "    elif num in range(91, 106):\n",
    "        one_29_categories[6] = one_29_categories[6] + 1\n",
    "    elif num in range(106, 121):\n",
    "        one_29_categories[7] = one_29_categories[7] + 1\n",
    "        \n",
    "        \n",
    "for num in three_29_count:\n",
    "    if num in range(0, 16):\n",
    "        three_29_categories[0] = three_29_categories[0] + 1\n",
    "    elif num in range(16, 31):\n",
    "        three_29_categories[1] = three_29_categories[1] + 1\n",
    "    elif num in range(31, 45):\n",
    "        three_29_categories[2] = three_29_categories[2] + 1\n",
    "    elif num in range(45, 61):\n",
    "        three_29_categories[3] = three_29_categories[3] + 1\n",
    "    elif num in range(61, 76):\n",
    "        three_29_categories[4] = three_29_categories[4] + 1\n",
    "    elif num in range(76, 91):\n",
    "        three_29_categories[5] = three_29_categories[5] + 1\n",
    "    elif num in range(91, 106):\n",
    "        three_29_categories[6] = three_29_categories[6] + 1\n",
    "    elif num in range(106, 380):\n",
    "        three_29_categories[7] = three_29_categories[7] + 1"
   ]
  },
  {
   "cell_type": "code",
   "execution_count": 59,
   "id": "6d81ebce",
   "metadata": {},
   "outputs": [
    {
     "data": {
      "text/plain": [
       "[27, 212, 45, 29, 23, 0, 0, 0]"
      ]
     },
     "execution_count": 59,
     "metadata": {},
     "output_type": "execute_result"
    }
   ],
   "source": [
    "one_29_categories"
   ]
  },
  {
   "cell_type": "code",
   "execution_count": 60,
   "id": "0972dfb8",
   "metadata": {},
   "outputs": [
    {
     "data": {
      "text/plain": [
       "[35, 15, 87, 67, 34, 24, 38, 94]"
      ]
     },
     "execution_count": 60,
     "metadata": {},
     "output_type": "execute_result"
    }
   ],
   "source": [
    "three_29_categories"
   ]
  },
  {
   "cell_type": "code",
   "execution_count": 61,
   "id": "4e0a242b",
   "metadata": {},
   "outputs": [],
   "source": [
    "labels = ['< 15', 30, 45, 60, 75, 90, 105, '> 120']"
   ]
  },
  {
   "cell_type": "code",
   "execution_count": 62,
   "id": "4d1cc02f",
   "metadata": {},
   "outputs": [],
   "source": [
    "l = []\n",
    "l1 = [[labels[i], one_29_categories[i], \"Red\"] for i in range(len(labels))]\n",
    "for i in l1:\n",
    "    l.append(i)\n",
    "l2 = [[labels[i], three_29_categories[i], \"Green\"] for i in range(len(labels))]\n",
    "for i in l2:\n",
    "    l.append(i)\n",
    "l1 = [e[0] for e in l]\n",
    "l2 = [e[1] for e in l]\n",
    "l3 = [e[2] for e in l]\n",
    "d1 = pd.DataFrame({'Signals Time (s)': l1, 'Count':l2, 'Color':l3})"
   ]
  },
  {
   "cell_type": "code",
   "execution_count": 63,
   "id": "f102ddb5",
   "metadata": {},
   "outputs": [
    {
     "data": {
      "image/png": "[encoded data removed]",
      "text/plain": [
       "<Figure size 1440x720 with 1 Axes>"
      ]
     },
     "metadata": {},
     "output_type": "display_data"
    }
   ],
   "source": [
    "sns.set_style('white')\n",
    "plt.figure(figsize=(20,10))\n",
    "bar_plot = sns.barplot(x = 'Count', y = 'Signals Time (s)', data = d1, orient= 'h', hue = 'Color', palette=[\"red\", \"green\"])\n",
    "sns.despine(left=True)\n",
    "plt.yticks(fontsize=15)\n",
    "plt.xticks(fontsize=15)\n",
    "plt.legend(fontsize='xx-large', title_fontsize='40')\n",
    "plt.xlabel('Count',fontsize=18, labelpad=10)\n",
    "plt.ylabel('Signal Time (s)', fontsize=18)\n",
    "plt.title(\"Distribution of Road (RSE29 Major)\", fontsize = 20, loc = 'center', pad = 20)\n",
    "plt.savefig(\"Distribution of Road (RSE29 Major).jpg\", bbox_inches='tight')"
   ]
  },
  {
   "cell_type": "markdown",
   "id": "0d82bc1f",
   "metadata": {},
   "source": [
    "RSE29 Minor Road Distribution"
   ]
  },
  {
   "cell_type": "code",
   "execution_count": 64,
   "id": "8eceff19",
   "metadata": {},
   "outputs": [],
   "source": [
    "RSE29_minor_light_count = []\n",
    "\n",
    "for key1, key2 in df_29_group_minor.groups.keys():\n",
    "    if key2 == 1 or key2 == 3:\n",
    "        time_list_red_major = list(df_29_group_minor.get_group((key1, key2))['Duration_Indication_MinorStreet'])\n",
    "        time_red = time_list_red_major[0]\n",
    "        count_red = 0\n",
    "        count_light = 0\n",
    "        for i in time_list_red_major[1:]:\n",
    "            if time_red > i:\n",
    "                RSE29_minor_light_count.append([key2, int(time_red)])\n",
    "            time_red = i\n",
    "         "
   ]
  },
  {
   "cell_type": "code",
   "execution_count": 65,
   "id": "bf51dc65",
   "metadata": {},
   "outputs": [],
   "source": [
    "one_29_count_minor = []\n",
    "three_29_count_minor = []\n",
    "for i in range(len(RSE29_minor_light_count)):\n",
    "    if RSE29_minor_light_count[i][0] == 1:\n",
    "        one_29_count_minor.append(RSE29_minor_light_count[i][1])\n",
    "    elif RSE29_minor_light_count[i][0] == 3:\n",
    "        three_29_count_minor.append(RSE29_minor_light_count[i][1])"
   ]
  },
  {
   "cell_type": "code",
   "execution_count": 67,
   "id": "0d6616c8",
   "metadata": {},
   "outputs": [
    {
     "data": {
      "text/plain": [
       "45"
      ]
     },
     "execution_count": 67,
     "metadata": {},
     "output_type": "execute_result"
    }
   ],
   "source": [
    "max(three_29_count_minor)"
   ]
  },
  {
   "cell_type": "code",
   "execution_count": 68,
   "id": "5681b45b",
   "metadata": {},
   "outputs": [],
   "source": [
    "one_29_minor_categories = [0]*8\n",
    "three_29_minor_categories = [0]*8\n",
    "\n",
    "for num in one_29_count_minor:\n",
    "    if num in range(0, 16):\n",
    "        one_29_minor_categories[0] = one_29_minor_categories[0] + 1\n",
    "    elif num in range(16, 31):\n",
    "        one_29_minor_categories[1] = one_29_minor_categories[1] + 1\n",
    "    elif num in range(31, 45):\n",
    "        one_29_minor_categories[2] = one_29_minor_categories[2] + 1\n",
    "    elif num in range(45, 61):\n",
    "        one_29_minor_categories[3] = one_29_minor_categories[3] + 1\n",
    "    elif num in range(61, 76):\n",
    "        one_29_minor_categories[4] = one_29_minor_categories[4] + 1\n",
    "    elif num in range(76, 91):\n",
    "        one_29_minor_categories[5] = one_29_minor_categories[5] + 1\n",
    "    elif num in range(91, 106):\n",
    "        one_29_minor_categories[6] = one_29_minor_categories[6] + 1\n",
    "    elif num in range(106, 390):\n",
    "        one_29_minor_categories[7] = one_29_minor_categories[7] + 1\n",
    "        \n",
    "        \n",
    "for num in three_29_count_minor:\n",
    "    if num in range(0, 16):\n",
    "        three_29_minor_categories[0] = three_29_minor_categories[0] + 1\n",
    "    elif num in range(16, 31):\n",
    "        three_29_minor_categories[1] = three_29_minor_categories[1] + 1\n",
    "    elif num in range(31, 45):\n",
    "        three_29_minor_categories[2] = three_29_minor_categories[2] + 1\n",
    "    elif num in range(45, 61):\n",
    "        three_29_minor_categories[3] = three_29_minor_categories[3] + 1\n",
    "    elif num in range(61, 76):\n",
    "        three_29_minor_categories[4] = three_29_minor_categories[4] + 1\n",
    "    elif num in range(76, 91):\n",
    "        three_29_minor_categories[5] = three_29_minor_categories[5] + 1\n",
    "    elif num in range(91, 106):\n",
    "        three_29_minor_categories[6] = three_29_minor_categories[6] + 1\n",
    "    elif num in range(106, 150):\n",
    "        three_29_minor_categories[7] = three_29_minor_categories[7] + 1"
   ]
  },
  {
   "cell_type": "code",
   "execution_count": 69,
   "id": "d0ee7881",
   "metadata": {},
   "outputs": [],
   "source": [
    "l = []\n",
    "l1 = [[labels[i], one_29_minor_categories[i], \"Red\"] for i in range(len(labels))]\n",
    "for i in l1:\n",
    "    l.append(i)\n",
    "l2 = [[labels[i], three_29_minor_categories[i], \"Green\"] for i in range(len(labels))]\n",
    "for i in l2:\n",
    "    l.append(i)\n",
    "l1 = [e[0] for e in l]\n",
    "l2 = [e[1] for e in l]\n",
    "l3 = [e[2] for e in l]\n",
    "d1_29_minor = pd.DataFrame({'Signals Time (s)': l1, 'Count':l2, 'Color':l3})"
   ]
  },
  {
   "cell_type": "code",
   "execution_count": 70,
   "id": "8229c9c5",
   "metadata": {},
   "outputs": [
    {
     "data": {
      "image/png": "[encoded data removed]",
      "text/plain": [
       "<Figure size 1440x720 with 1 Axes>"
      ]
     },
     "metadata": {},
     "output_type": "display_data"
    }
   ],
   "source": [
    "sns.set_style('white')\n",
    "plt.figure(figsize=(20,10))\n",
    "bar_plot = sns.barplot(x = 'Count', y = 'Signals Time (s)', data = d1_29_minor, orient= 'h', hue = 'Color', palette=[\"red\", \"green\"])\n",
    "sns.despine(left=True)\n",
    "plt.yticks(fontsize=15)\n",
    "plt.xticks(fontsize=15)\n",
    "plt.legend(fontsize='xx-large', title_fontsize='40')\n",
    "plt.xlabel('Count',fontsize=18, labelpad=10)\n",
    "plt.ylabel('Signal Time (s)', fontsize=18)\n",
    "plt.title(\"Distribution of Road (RSE29 Minor)\", fontsize = 20, loc = 'center', pad = 20)\n",
    "plt.savefig(\"Distribution of Road (RSE29 Minor).jpg\", bbox_inches='tight')"
   ]
  },
  {
   "cell_type": "markdown",
   "id": "719c09cd",
   "metadata": {},
   "source": [
    "RSE30 Major Road Distribution"
   ]
  },
  {
   "cell_type": "code",
   "execution_count": 71,
   "id": "543aabe5",
   "metadata": {},
   "outputs": [],
   "source": [
    "RSE30_major_light_count = []\n",
    "\n",
    "for key1, key2 in df_30_group.groups.keys():\n",
    "    if key2 == 1 or key2 == 3:\n",
    "        time_list_red_major = list(df_30_group.get_group((key1, key2))['Duration_Indication_MajorStreet'])\n",
    "        time_red = time_list_red_major[0]\n",
    "        count_red = 0\n",
    "        count_light = 0\n",
    "        for i in time_list_red_major[1:]:\n",
    "            if time_red > i:\n",
    "                RSE30_major_light_count.append([key2, int(time_red)])\n",
    "            time_red = i\n",
    "         "
   ]
  },
  {
   "cell_type": "code",
   "execution_count": 72,
   "id": "ddbdd6ad",
   "metadata": {},
   "outputs": [],
   "source": [
    "one_30_count = []\n",
    "three_30_count = []\n",
    "for i in range(len(RSE30_major_light_count)):\n",
    "    if RSE30_major_light_count[i][0] == 1:\n",
    "        one_30_count.append(RSE30_major_light_count[i][1])\n",
    "    elif RSE30_major_light_count[i][0] == 3:\n",
    "        three_30_count.append(RSE30_major_light_count[i][1])"
   ]
  },
  {
   "cell_type": "code",
   "execution_count": 74,
   "id": "a73da6a2",
   "metadata": {},
   "outputs": [
    {
     "data": {
      "text/plain": [
       "190"
      ]
     },
     "execution_count": 74,
     "metadata": {},
     "output_type": "execute_result"
    }
   ],
   "source": [
    "max(three_30_count)"
   ]
  },
  {
   "cell_type": "code",
   "execution_count": 75,
   "id": "799854e3",
   "metadata": {},
   "outputs": [],
   "source": [
    "one_30_categories = [0]*8\n",
    "three_30_categories = [0]*8\n",
    "\n",
    "for num in one_30_count:\n",
    "    if num in range(0, 16):\n",
    "        one_30_categories[0] = one_30_categories[0] + 1\n",
    "    elif num in range(16, 31):\n",
    "        one_30_categories[1] = one_30_categories[1] + 1\n",
    "    elif num in range(31, 45):\n",
    "        one_30_categories[2] = one_30_categories[2] + 1\n",
    "    elif num in range(45, 61):\n",
    "        one_30_categories[3] = one_30_categories[3] + 1\n",
    "    elif num in range(61, 76):\n",
    "        one_30_categories[4] = one_30_categories[4] + 1\n",
    "    elif num in range(76, 91):\n",
    "        one_30_categories[5] = one_30_categories[5] + 1\n",
    "    elif num in range(91, 106):\n",
    "        one_30_categories[6] = one_30_categories[6] + 1\n",
    "    elif num in range(106, 121):\n",
    "        one_30_categories[7] = one_30_categories[7] + 1\n",
    "        \n",
    "        \n",
    "for num in three_30_count:\n",
    "    if num in range(0, 16):\n",
    "        three_30_categories[0] = three_30_categories[0] + 1\n",
    "    elif num in range(16, 31):\n",
    "        three_30_categories[1] = three_30_categories[1] + 1\n",
    "    elif num in range(31, 45):\n",
    "        three_30_categories[2] = three_30_categories[2] + 1\n",
    "    elif num in range(45, 61):\n",
    "        three_30_categories[3] = three_30_categories[3] + 1\n",
    "    elif num in range(61, 76):\n",
    "        three_30_categories[4] = three_30_categories[4] + 1\n",
    "    elif num in range(76, 91):\n",
    "        three_30_categories[5] = three_30_categories[5] + 1\n",
    "    elif num in range(91, 106):\n",
    "        three_30_categories[6] = three_30_categories[6] + 1\n",
    "    elif num in range(106, 201):\n",
    "        three_30_categories[7] = three_30_categories[7] + 1"
   ]
  },
  {
   "cell_type": "code",
   "execution_count": 76,
   "id": "c96498cb",
   "metadata": {},
   "outputs": [],
   "source": [
    "l = []\n",
    "l1 = [[labels[i], one_30_categories[i], \"Red\"] for i in range(len(labels))]\n",
    "for i in l1:\n",
    "    l.append(i)\n",
    "l2 = [[labels[i], three_30_categories[i], \"Green\"] for i in range(len(labels))]\n",
    "for i in l2:\n",
    "    l.append(i)\n",
    "l1 = [e[0] for e in l]\n",
    "l2 = [e[1] for e in l]\n",
    "l3 = [e[2] for e in l]\n",
    "d1_30_major = pd.DataFrame({'Signals Time (s)': l1, 'Count':l2, 'Color':l3})"
   ]
  },
  {
   "cell_type": "code",
   "execution_count": 77,
   "id": "0b782bb1",
   "metadata": {},
   "outputs": [
    {
     "data": {
      "image/png": "[encoded data removed]",
      "text/plain": [
       "<Figure size 1440x720 with 1 Axes>"
      ]
     },
     "metadata": {},
     "output_type": "display_data"
    }
   ],
   "source": [
    "sns.set_style('white')\n",
    "plt.figure(figsize=(20,10))\n",
    "bar_plot = sns.barplot(x = 'Count', y = 'Signals Time (s)', data = d1_30_major, orient= 'h', hue = 'Color', palette=[\"red\", \"green\"])\n",
    "sns.despine(left=True)\n",
    "plt.yticks(fontsize=15)\n",
    "plt.xticks(fontsize=15)\n",
    "plt.legend(fontsize='xx-large', title_fontsize='40')\n",
    "plt.xlabel('Count',fontsize=18, labelpad=10)\n",
    "plt.ylabel('Signal Time (s)', fontsize=18)\n",
    "plt.title(\"Distribution of Road (RSE30 Major)\", fontsize = 20, loc = 'center', pad = 20)\n",
    "plt.savefig(\"Distribution of Road (RSE30 Major).jpg\", bbox_inches='tight')"
   ]
  },
  {
   "cell_type": "markdown",
   "id": "4f2755cf",
   "metadata": {},
   "source": [
    "Distribution of Road RSE Minor"
   ]
  },
  {
   "cell_type": "code",
   "execution_count": 78,
   "id": "f1af4f8f",
   "metadata": {},
   "outputs": [],
   "source": [
    "RSE30_minor_light_count = []\n",
    "\n",
    "for key1, key2 in df_30_group_minor.groups.keys():\n",
    "    if key2 == 1 or key2 == 3:\n",
    "        time_list_red_major = list(df_30_group_minor.get_group((key1, key2))['Duration_Indication_MinorStreet'])\n",
    "        time_red = time_list_red_major[0]\n",
    "        count_red = 0\n",
    "        count_light = 0\n",
    "        for i in time_list_red_major[1:]:\n",
    "            if time_red > i:\n",
    "                RSE30_minor_light_count.append([key2, int(time_red)])\n",
    "            time_red = i\n",
    "         "
   ]
  },
  {
   "cell_type": "code",
   "execution_count": 79,
   "id": "47d631fa",
   "metadata": {},
   "outputs": [],
   "source": [
    "one_30_count_minor = []\n",
    "three_30_count_minor = []\n",
    "for i in range(len(RSE30_minor_light_count)):\n",
    "    if RSE30_minor_light_count[i][0] == 1:\n",
    "        one_30_count_minor.append(RSE30_minor_light_count[i][1])\n",
    "    elif RSE30_minor_light_count[i][0] == 3:\n",
    "        three_30_count_minor.append(RSE30_minor_light_count[i][1])"
   ]
  },
  {
   "cell_type": "code",
   "execution_count": 81,
   "id": "51d0d2aa",
   "metadata": {},
   "outputs": [
    {
     "data": {
      "text/plain": [
       "57"
      ]
     },
     "execution_count": 81,
     "metadata": {},
     "output_type": "execute_result"
    }
   ],
   "source": [
    "max(three_30_count_minor)"
   ]
  },
  {
   "cell_type": "code",
   "execution_count": 82,
   "id": "94a10f31",
   "metadata": {},
   "outputs": [],
   "source": [
    "one_30_minor_categories = [0]*8\n",
    "three_30_minor_categories = [0]*8\n",
    "\n",
    "for num in one_30_count_minor:\n",
    "    if num in range(0, 16):\n",
    "        one_30_minor_categories[0] = one_30_minor_categories[0] + 1\n",
    "    elif num in range(16, 31):\n",
    "        one_30_minor_categories[1] = one_30_minor_categories[1] + 1\n",
    "    elif num in range(31, 45):\n",
    "        one_30_minor_categories[2] = one_30_minor_categories[2] + 1\n",
    "    elif num in range(45, 61):\n",
    "        one_30_minor_categories[3] = one_30_minor_categories[3] + 1\n",
    "    elif num in range(61, 76):\n",
    "        one_30_minor_categories[4] = one_30_minor_categories[4] + 1\n",
    "    elif num in range(76, 91):\n",
    "        one_30_minor_categories[5] = one_30_minor_categories[5] + 1\n",
    "    elif num in range(91, 106):\n",
    "        one_30_minor_categories[6] = one_30_minor_categories[6] + 1\n",
    "    elif num in range(106, 300):\n",
    "        one_30_minor_categories[7] = one_30_minor_categories[7] + 1\n",
    "        \n",
    "        \n",
    "for num in three_30_count_minor:\n",
    "    if num in range(0, 16):\n",
    "        three_30_minor_categories[0] = three_30_minor_categories[0] + 1\n",
    "    elif num in range(16, 31):\n",
    "        three_30_minor_categories[1] = three_30_minor_categories[1] + 1\n",
    "    elif num in range(31, 45):\n",
    "        three_30_minor_categories[2] = three_30_minor_categories[2] + 1\n",
    "    elif num in range(45, 61):\n",
    "        three_30_minor_categories[3] = three_30_minor_categories[3] + 1\n",
    "    elif num in range(61, 76):\n",
    "        three_30_minor_categories[4] = three_30_minor_categories[4] + 1\n",
    "    elif num in range(76, 91):\n",
    "        three_30_minor_categories[5] = three_30_minor_categories[5] + 1\n",
    "    elif num in range(91, 106):\n",
    "        three_30_minor_categories[6] = three_30_minor_categories[6] + 1\n",
    "    elif num in range(106, 150):\n",
    "        three_30_minor_categories[7] = three_30_minor_categories[7] + 1"
   ]
  },
  {
   "cell_type": "code",
   "execution_count": 83,
   "id": "e1e809bd",
   "metadata": {},
   "outputs": [],
   "source": [
    "l = []\n",
    "l1 = [[labels[i], one_30_minor_categories[i], \"Red\"] for i in range(len(labels))]\n",
    "for i in l1:\n",
    "    l.append(i)\n",
    "l2 = [[labels[i], three_30_minor_categories[i], \"Green\"] for i in range(len(labels))]\n",
    "for i in l2:\n",
    "    l.append(i)\n",
    "l1 = [e[0] for e in l]\n",
    "l2 = [e[1] for e in l]\n",
    "l3 = [e[2] for e in l]\n",
    "d1_30_minor = pd.DataFrame({'Signals Time (s)': l1, 'Count':l2, 'Color':l3})"
   ]
  },
  {
   "cell_type": "code",
   "execution_count": 84,
   "id": "0d45e1fe",
   "metadata": {},
   "outputs": [
    {
     "data": {
      "image/png": "[encoded data removed]",
      "text/plain": [
       "<Figure size 1440x720 with 1 Axes>"
      ]
     },
     "metadata": {},
     "output_type": "display_data"
    }
   ],
   "source": [
    "sns.set_style('white')\n",
    "plt.figure(figsize=(20,10))\n",
    "bar_plot = sns.barplot(x = 'Count', y = 'Signals Time (s)', data = d1_30_minor, orient= 'h', hue = 'Color', palette=[\"red\", \"green\"])\n",
    "sns.despine(left=True)\n",
    "plt.yticks(fontsize=15)\n",
    "plt.xticks(fontsize=15)\n",
    "plt.legend(fontsize='xx-large', title_fontsize='40')\n",
    "plt.xlabel('Count',fontsize=18, labelpad=10)\n",
    "plt.ylabel('Signal Time (s)', fontsize=18)\n",
    "plt.title(\"Distribution of Road (RSE30 Minor)\", fontsize = 20, loc = 'center', pad = 20)\n",
    "plt.savefig(\"Distribution of Road (RSE30 Minor).jpg\", bbox_inches='tight')"
   ]
  },
  {
   "cell_type": "code",
   "execution_count": 103,
   "id": "29396072",
   "metadata": {},
   "outputs": [],
   "source": [
    "#trying bidirectional"
   ]
  },
  {
   "cell_type": "code",
   "execution_count": null,
   "id": "05e49e98",
   "metadata": {},
   "outputs": [],
   "source": []
  },
  {
   "cell_type": "code",
   "execution_count": 93,
   "id": "a07cb857",
   "metadata": {},
   "outputs": [
    {
     "data": {
      "image/png": "[encoded data removed]",
      "text/plain": [
       "<Figure size 1440x576 with 2 Axes>"
      ]
     },
     "metadata": {},
     "output_type": "display_data"
    }
   ],
   "source": [
    "r1 = np.arange(8)\n",
    "fig, axes = plt.subplots(figsize=(10,5), ncols=2, sharey=True)\n",
    "#fig.tight_layout()\n",
    "fig.set_figwidth(20)\n",
    "fig.set_figheight(8)\n",
    "axes[0].barh(r1, one_29_categories, align='center', height = 0.2, color='red', zorder=10)\n",
    "axes[0].barh(r1+0.25, three_29_categories, align='center', height = 0.2, color='green', zorder=10)\n",
    "axes[0].set_title(\"RSE29 Major\", fontsize=18, pad=15)\n",
    "axes[1].barh(r1, one_30_categories, align='center', height = 0.2, color='red', zorder=10)\n",
    "axes[1].barh(r1+0.25, three_30_categories, align='center', height = 0.2, color='green', zorder=10)\n",
    "axes[1].set_title('RSE30 Major', fontsize=18, pad=15)\n",
    "\n",
    "#plt.yticks(r1 + 0.25/2, labels)\n",
    "axes[0].invert_xaxis() \n",
    "axes[0].set(yticks=(r1+(0.25//2)), yticklabels=labels)\n",
    "axes[0].yaxis.tick_left()\n",
    "axes[0].tick_params(axis='y', colors='black')\n",
    "\n",
    "\n",
    "axes[0].spines['right'].set_visible(False)\n",
    "axes[1].spines['left'].set_visible(False)\n",
    "\n",
    "for label in (axes[0].get_xticklabels() + axes[0].get_yticklabels()):\n",
    "    label.set(fontsize=15)\n",
    "for label in (axes[1].get_xticklabels() + axes[1].get_yticklabels()):\n",
    "    label.set(fontsize=15)\n",
    "\n",
    "plt.subplots_adjust(wspace=0, top=0.85, bottom=0.1, left=0.18, right=0.95)\n",
    "axes[0].set_ylabel(\"Signal Time (s)\", fontsize=15)\n",
    "fig.supxlabel(\"Count\", fontsize=15, x = 0.56)\n",
    "fig.suptitle(\"Major Road Distribution\", fontsize=20, x = 0.56)\n",
    "plt.savefig(\"Major Road Distribution RSE29 Vs RSE30.jpg\", bbox_inches='tight')"
   ]
  },
  {
   "cell_type": "code",
   "execution_count": 94,
   "id": "6d6ec0f8",
   "metadata": {},
   "outputs": [
    {
     "data": {
      "image/png": "[encoded data removed]",
      "text/plain": [
       "<Figure size 1440x576 with 2 Axes>"
      ]
     },
     "metadata": {},
     "output_type": "display_data"
    }
   ],
   "source": [
    "r1 = np.arange(8)\n",
    "fig, axes = plt.subplots(figsize=(10,5), ncols=2, sharey=True)\n",
    "#fig.tight_layout()\n",
    "fig.set_figwidth(20)\n",
    "fig.set_figheight(8)\n",
    "axes[0].barh(r1, one_29_minor_categories, align='center', height = 0.2, color='red', label = \"Red\", zorder=10)\n",
    "axes[0].barh(r1+0.25, three_29_minor_categories, align='center', height = 0.2, color='green', label = \"Green\",  zorder=10)\n",
    "axes[0].set_title(\"RSE29 Minor\", fontsize=18, pad=15)\n",
    "axes[1].barh(r1, one_30_minor_categories, align='center', height = 0.2, color='red', label = \"Red\",  zorder=10)\n",
    "axes[1].barh(r1+0.25, three_30_minor_categories, align='center', height = 0.2, color='green', label = \"Green\", zorder=10)\n",
    "axes[1].set_title('RSE30 Minor', fontsize=18, pad=15)\n",
    "\n",
    "#plt.yticks(r1 + 0.25/2, labels)\n",
    "axes[0].invert_xaxis() \n",
    "axes[0].set(yticks=(r1+(0.25//2)), yticklabels=labels)\n",
    "axes[0].yaxis.tick_left()\n",
    "axes[0].tick_params(axis='y', colors='black')\n",
    "\n",
    "axes[0].spines['right'].set_visible(False)\n",
    "axes[1].spines['left'].set_visible(False)\n",
    "\n",
    "\n",
    "for label in (axes[0].get_xticklabels() + axes[0].get_yticklabels()):\n",
    "    label.set(fontsize=15)\n",
    "for label in (axes[1].get_xticklabels() + axes[1].get_yticklabels()):\n",
    "    label.set(fontsize=15)\n",
    "axes[0].set_ylabel(\"Signal Time (s)\", fontsize=15)\n",
    "fig.supxlabel(\"Count\", fontsize=15, x = 0.56)\n",
    "plt.subplots_adjust(wspace=0, top=0.85, bottom=0.1, left=0.18, right=0.95)\n",
    "fig.suptitle(\"Minor Road Distribution\", fontsize=20, x = 0.56)\n",
    "\n",
    "plt.savefig(\"Minor Road Distribution RSE29 Vs RSE30.jpg\", bbox_inches='tight')"
   ]
  },
  {
   "cell_type": "code",
   "execution_count": null,
   "id": "6f020fae",
   "metadata": {},
   "outputs": [],
   "source": [
    "    "
   ]
  }
 ],
 "metadata": {
  "kernelspec": {
   "display_name": "Python 3 (ipykernel)",
   "language": "python",
   "name": "python3"
  },
  "language_info": {
   "codemirror_mode": {
    "name": "ipython",
    "version": 3
   },
   "file_extension": ".py",
   "mimetype": "text/x-python",
   "name": "python",
   "nbconvert_exporter": "python",
   "pygments_lexer": "ipython3",
   "version": "3.9.7"
  }
 },
 "nbformat": 4,
 "nbformat_minor": 5
}
